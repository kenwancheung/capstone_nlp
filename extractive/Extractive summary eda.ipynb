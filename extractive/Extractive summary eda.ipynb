{
 "cells": [
  {
   "cell_type": "code",
   "execution_count": 3,
   "metadata": {},
   "outputs": [],
   "source": [
    "import pandas as pd"
   ]
  },
  {
   "cell_type": "code",
   "execution_count": 30,
   "metadata": {},
   "outputs": [
    {
     "name": "stderr",
     "output_type": "stream",
     "text": [
      "C:\\Users\\Joan\\Anaconda3\\lib\\site-packages\\gensim\\utils.py:1167: UserWarning: detected Windows; aliasing chunkize to chunkize_serial\n",
      "  warnings.warn(\"detected Windows; aliasing chunkize to chunkize_serial\")\n",
      "2018-07-01 18:01:05,342 : INFO : 'pattern' package not found; tag filters are not available for English\n"
     ]
    }
   ],
   "source": [
    "import logging\n",
    "logging.basicConfig(format='%(asctime)s : %(levelname)s : %(message)s', level=logging.INFO)\n",
    "\n",
    "from gensim.summarization import summarize\n",
    "from gensim.summarization import keywords\n",
    "from nltk.tokenize import word_tokenize, sent_tokenize  \n",
    "from nltk.corpus import stopwords\n",
    "#get english list of stopwords\n",
    "stop_words = stopwords.words('english')\n"
   ]
  },
  {
   "cell_type": "markdown",
   "metadata": {},
   "source": [
    "### Setting up Genesis chapter 1 for test"
   ]
  },
  {
   "cell_type": "code",
   "execution_count": 4,
   "metadata": {},
   "outputs": [],
   "source": [
    "#import bible text\n",
    "dta = pd.read_csv('t_asv.csv')"
   ]
  },
  {
   "cell_type": "code",
   "execution_count": 5,
   "metadata": {},
   "outputs": [
    {
     "data": {
      "text/html": [
       "<div>\n",
       "<style scoped>\n",
       "    .dataframe tbody tr th:only-of-type {\n",
       "        vertical-align: middle;\n",
       "    }\n",
       "\n",
       "    .dataframe tbody tr th {\n",
       "        vertical-align: top;\n",
       "    }\n",
       "\n",
       "    .dataframe thead th {\n",
       "        text-align: right;\n",
       "    }\n",
       "</style>\n",
       "<table border=\"1\" class=\"dataframe\">\n",
       "  <thead>\n",
       "    <tr style=\"text-align: right;\">\n",
       "      <th></th>\n",
       "      <th>id</th>\n",
       "      <th>b</th>\n",
       "      <th>c</th>\n",
       "      <th>v</th>\n",
       "      <th>t</th>\n",
       "    </tr>\n",
       "  </thead>\n",
       "  <tbody>\n",
       "    <tr>\n",
       "      <th>0</th>\n",
       "      <td>1001001</td>\n",
       "      <td>1</td>\n",
       "      <td>1</td>\n",
       "      <td>1</td>\n",
       "      <td>In the beginning God created the heavens and t...</td>\n",
       "    </tr>\n",
       "    <tr>\n",
       "      <th>1</th>\n",
       "      <td>1001002</td>\n",
       "      <td>1</td>\n",
       "      <td>1</td>\n",
       "      <td>2</td>\n",
       "      <td>And the earth was waste and void; and darkness...</td>\n",
       "    </tr>\n",
       "    <tr>\n",
       "      <th>2</th>\n",
       "      <td>1001003</td>\n",
       "      <td>1</td>\n",
       "      <td>1</td>\n",
       "      <td>3</td>\n",
       "      <td>And God said, Let there be light: and there wa...</td>\n",
       "    </tr>\n",
       "    <tr>\n",
       "      <th>3</th>\n",
       "      <td>1001004</td>\n",
       "      <td>1</td>\n",
       "      <td>1</td>\n",
       "      <td>4</td>\n",
       "      <td>And God saw the light, that it was good: and G...</td>\n",
       "    </tr>\n",
       "    <tr>\n",
       "      <th>4</th>\n",
       "      <td>1001005</td>\n",
       "      <td>1</td>\n",
       "      <td>1</td>\n",
       "      <td>5</td>\n",
       "      <td>And God called the light Day, and the darkness...</td>\n",
       "    </tr>\n",
       "  </tbody>\n",
       "</table>\n",
       "</div>"
      ],
      "text/plain": [
       "        id  b  c  v                                                  t\n",
       "0  1001001  1  1  1  In the beginning God created the heavens and t...\n",
       "1  1001002  1  1  2  And the earth was waste and void; and darkness...\n",
       "2  1001003  1  1  3  And God said, Let there be light: and there wa...\n",
       "3  1001004  1  1  4  And God saw the light, that it was good: and G...\n",
       "4  1001005  1  1  5  And God called the light Day, and the darkness..."
      ]
     },
     "execution_count": 5,
     "metadata": {},
     "output_type": "execute_result"
    }
   ],
   "source": [
    "dta.head(5)"
   ]
  },
  {
   "cell_type": "code",
   "execution_count": 6,
   "metadata": {},
   "outputs": [
    {
     "data": {
      "text/plain": [
       "array([ 1,  2,  3,  4,  5,  6,  7,  8,  9, 10, 11, 12, 13, 14, 15, 16, 17,\n",
       "       18, 19, 20, 21, 22, 23, 24, 25, 26, 27, 28, 29, 30, 31, 32, 33, 34,\n",
       "       35, 36, 37, 38, 39, 40, 41, 42, 43, 44, 45, 46, 47, 48, 49, 50, 51,\n",
       "       52, 53, 54, 55, 56, 57, 58, 59, 60, 61, 62, 63, 64, 65, 66],\n",
       "      dtype=int64)"
      ]
     },
     "execution_count": 6,
     "metadata": {},
     "output_type": "execute_result"
    }
   ],
   "source": [
    "dta.b.unique()"
   ]
  },
  {
   "cell_type": "code",
   "execution_count": 7,
   "metadata": {},
   "outputs": [],
   "source": [
    "gen = dta[dta.b==1]"
   ]
  },
  {
   "cell_type": "code",
   "execution_count": 8,
   "metadata": {},
   "outputs": [
    {
     "data": {
      "text/plain": [
       "array([ 1,  2,  3,  4,  5,  6,  7,  8,  9, 10, 11, 12, 13, 14, 15, 16, 17,\n",
       "       18, 19, 20, 21, 22, 23, 24, 25, 26, 27, 28, 29, 30, 31, 32, 33, 34,\n",
       "       35, 36, 37, 38, 39, 40, 41, 42, 43, 44, 45, 46, 47, 48, 49, 50],\n",
       "      dtype=int64)"
      ]
     },
     "execution_count": 8,
     "metadata": {},
     "output_type": "execute_result"
    }
   ],
   "source": [
    "gen.c.unique()"
   ]
  },
  {
   "cell_type": "code",
   "execution_count": 9,
   "metadata": {},
   "outputs": [],
   "source": [
    "gen1 = dta.t[(dta.b==1) & (dta.c==1)]"
   ]
  },
  {
   "cell_type": "code",
   "execution_count": 37,
   "metadata": {},
   "outputs": [],
   "source": [
    "gen2 = dta.t[(dta.b==1) & (dta.c==2)]"
   ]
  },
  {
   "cell_type": "code",
   "execution_count": 68,
   "metadata": {},
   "outputs": [],
   "source": [
    "gen3 = dta.t[(dta.b==1) & (dta.c==3)]"
   ]
  },
  {
   "cell_type": "code",
   "execution_count": 76,
   "metadata": {},
   "outputs": [],
   "source": [
    "deut5 = dta.t[(dta.b==5) & (dta.c==5)]"
   ]
  },
  {
   "cell_type": "code",
   "execution_count": null,
   "metadata": {},
   "outputs": [],
   "source": []
  },
  {
   "cell_type": "code",
   "execution_count": null,
   "metadata": {},
   "outputs": [],
   "source": []
  },
  {
   "cell_type": "code",
   "execution_count": null,
   "metadata": {},
   "outputs": [],
   "source": []
  },
  {
   "cell_type": "code",
   "execution_count": null,
   "metadata": {},
   "outputs": [],
   "source": []
  },
  {
   "cell_type": "code",
   "execution_count": null,
   "metadata": {},
   "outputs": [],
   "source": []
  },
  {
   "cell_type": "code",
   "execution_count": 11,
   "metadata": {},
   "outputs": [
    {
     "name": "stdout",
     "output_type": "stream",
     "text": [
      "0     In the beginning God created the heavens and t...\n",
      "1     And the earth was waste and void; and darkness...\n",
      "2     And God said, Let there be light: and there wa...\n",
      "3     And God saw the light, that it was good: and G...\n",
      "4     And God called the light Day, and the darkness...\n",
      "5     And God said, Let there be a firmament in the ...\n",
      "6     And God made the firmament, and divided the wa...\n",
      "7     And God called the firmament Heaven. And there...\n",
      "8     And God said, Let the waters under the heavens...\n",
      "9     And God called the dry land Earth; and the gat...\n",
      "10    And God said, Let the earth put forth grass, h...\n",
      "11    And the earth brought forth grass, herbs yield...\n",
      "12    And there was evening and there was morning, a...\n",
      "13    And God said, Let there be lights in the firma...\n",
      "14    and let them be for lights in the firmament of...\n",
      "15    And God made the two great lights; the greater...\n",
      "16    And God set them in the firmament of heaven to...\n",
      "17    and to rule over the day and over the night, a...\n",
      "18    And there was evening and there was morning, a...\n",
      "19    And God said, Let the waters swarm with swarms...\n",
      "20    And God created the great sea-monsters, and ev...\n",
      "21    And God blessed them, saying, Be fruitful, and...\n",
      "22    And there was evening and there was morning, a...\n",
      "23    And God said, Let the earth bring forth living...\n",
      "24    And God made the beasts of the earth after the...\n",
      "25    And God said, Let us make man in our image, af...\n",
      "26    And God created man in his own image, in the i...\n",
      "27    And God blessed them: and God said unto them, ...\n",
      "28    And God said, Behold, I have given you every h...\n",
      "29    and to every beast of the earth, and to every ...\n",
      "30    And God saw everything that he had made, and, ...\n",
      "Name: t, dtype: object\n"
     ]
    }
   ],
   "source": [
    "print(gen1)"
   ]
  },
  {
   "cell_type": "code",
   "execution_count": 12,
   "metadata": {},
   "outputs": [
    {
     "name": "stdout",
     "output_type": "stream",
     "text": [
      "31    And the heavens and the earth were finished, a...\n",
      "32    And on the seventh day God finished his work w...\n",
      "33    And God blessed the seventh day, and hallowed ...\n",
      "34    These are the generations of the heavens and o...\n",
      "35    And no plant of the field was yet in the earth...\n",
      "36    but there went up a mist from the earth, and w...\n",
      "37    And Jehovah God formed man of the dust of the ...\n",
      "38    And Jehovah God planted a garden eastward, in ...\n",
      "39    And out of the ground made Jehovah God to grow...\n",
      "40    And a river went out of Eden to water the gard...\n",
      "41    The name of the first is Pishon: that is it wh...\n",
      "42    and the gold of that land is good: there is bd...\n",
      "43    And the name of the second river is Gihon: the...\n",
      "44    And the name of the third river is Hiddekel: t...\n",
      "45    And Jehovah God took the man, and put him into...\n",
      "46    And Jehovah God commanded the man, saying, Of ...\n",
      "47    but of the tree of the knowledge of good and e...\n",
      "48    And Jehovah God said, It is not good that the ...\n",
      "49    And out of the ground Jehovah God formed every...\n",
      "50    And the man gave names to all cattle, and to t...\n",
      "51    And Jehovah God caused a deep sleep to fall up...\n",
      "52    and the rib, which Jehovah God had taken from ...\n",
      "53    And the man said, This is now bone of my bones...\n",
      "54    Therefore shall a man leave his father and his...\n",
      "55    And they were both naked, the man and his wife...\n",
      "Name: t, dtype: object\n"
     ]
    }
   ],
   "source": [
    "print(gen2)"
   ]
  },
  {
   "cell_type": "code",
   "execution_count": 38,
   "metadata": {},
   "outputs": [
    {
     "name": "stdout",
     "output_type": "stream",
     "text": [
      "['In the beginning God created the heavens and the earth.', 'And the earth was waste and void; and darkness was upon the face of the deep: and the Spirit of God moved upon the face of the waters.', 'And God said, Let there be light: and there was light.', 'And God saw the light, that it was good: and God divided the light from the darkness.', 'And God called the light Day, and the darkness he called Night.', 'And there was evening and there was morning, one day.', 'And God said, Let there be a firmament in the midst of the waters, and let it divide the waters from the waters.', 'And God made the firmament, and divided the waters which were under the firmament from the waters which were above the firmament: and it was so.', 'And God called the firmament Heaven.', 'And there was evening and there was morning, a second day.', 'And God said, Let the waters under the heavens be gathered together unto one place, and let the dry land appear: and it was so.', 'And God called the dry land Earth; and the gathering together of the waters called he Seas: and God saw that it was good.', \"And God said, Let the earth put forth grass, herbs yielding seed, `and' fruit-trees bearing fruit after their kind, wherein is the seed thereof, upon the earth: and it was so.\", 'And the earth brought forth grass, herbs yielding seed after their kind, and trees bearing fruit, wherein is the seed thereof, after their kind: and God saw that it was good.', 'And there was evening and there was morning, a third day.', 'And God said, Let there be lights in the firmament of heaven to divide the day from the night; and let them be for signs, and for seasons, and for days and years:', 'and let them be for lights in the firmament of heaven to give light upon the earth: and it was so.', \"And God made the two great lights; the greater light to rule the day, and the lesser light to rule the night: `he made' the stars also.\", 'And God set them in the firmament of heaven to give light upon the earth,', 'and to rule over the day and over the night, and to divide the light from the darkness: and God saw that it was good.', 'And there was evening and there was morning, a fourth day.', 'And God said, Let the waters swarm with swarms of living creatures, and let birds fly above the earth in the open firmament of heaven.', 'And God created the great sea-monsters, and every living creature that moveth, wherewith the waters swarmed, after their kind, and every winged bird after its kind: and God saw that it was good.', 'And God blessed them, saying, Be fruitful, and multiply, and fill the waters in the seas, and let birds multiply on the earth.', 'And there was evening and there was morning, a fifth day.', 'And God said, Let the earth bring forth living creatures after their kind, cattle, and creeping things, and beasts of the earth after their kind: and it was so.', 'And God made the beasts of the earth after their kind, and the cattle after their kind, and everything that creepeth upon the ground after its kind: and God saw that it was good.', 'And God said, Let us make man in our image, after our likeness: and let them have dominion over the fish of the sea, and over the birds of the heavens, and over the cattle, and over all the earth, and over every creeping thing that creepeth upon the earth.', 'And God created man in his own image, in the image of God created he him; male and female created he them.', 'And God blessed them: and God said unto them, Be fruitful, and multiply, and replenish the earth, and subdue it; and have dominion over the fish of the sea, and over the birds of the heavens, and over every living thing that moveth upon the earth.', 'And God said, Behold, I have given you every herb yielding seed, which is upon the face of all the earth, and every tree, in which is the fruit of a tree yielding seed; to you it shall be for food:', \"and to every beast of the earth, and to every bird of the heavens, and to everything that creepeth upon the earth, wherein there is life, `I have given' every green herb for food: and it was so.\", 'And God saw everything that he had made, and, behold, it was very good.', 'And there was evening and there was morning, the sixth day.']\n"
     ]
    }
   ],
   "source": [
    "all_gen1_verse=[]\n",
    "for verse in gen1:\n",
    "    gen1verse = sent_tokenize(verse)\n",
    "    all_gen1_verse.extend(gen1verse)\n",
    "    \n",
    "print(all_gen1_verse)"
   ]
  },
  {
   "cell_type": "code",
   "execution_count": 39,
   "metadata": {},
   "outputs": [],
   "source": [
    "gen1str = '\\n'.join(all_gen1_verse)"
   ]
  },
  {
   "cell_type": "code",
   "execution_count": 40,
   "metadata": {
    "scrolled": true
   },
   "outputs": [
    {
     "name": "stdout",
     "output_type": "stream",
     "text": [
      "In the beginning God created the heavens and the earth.\n",
      "And the earth was waste and void; and darkness was upon the face of the deep: and the Spirit of God moved upon the face of the waters.\n",
      "And God said, Let there be light: and there was light.\n",
      "And God saw the light, that it was good: and God divided the light from the darkness.\n",
      "And God called the light Day, and the darkness he called Night.\n",
      "And there was evening and there was morning, one day.\n",
      "And God said, Let there be a firmament in the midst of the waters, and let it divide the waters from the waters.\n",
      "And God made the firmament, and divided the waters which were under the firmament from the waters which were above the firmament: and it was so.\n",
      "And God called the firmament Heaven.\n",
      "And there was evening and there was morning, a second day.\n",
      "And God said, Let the waters under the heavens be gathered together unto one place, and let the dry land appear: and it was so.\n",
      "And God called the dry land Earth; and the gathering together of the waters called he Seas: and God saw that it was good.\n",
      "And God said, Let the earth put forth grass, herbs yielding seed, `and' fruit-trees bearing fruit after their kind, wherein is the seed thereof, upon the earth: and it was so.\n",
      "And the earth brought forth grass, herbs yielding seed after their kind, and trees bearing fruit, wherein is the seed thereof, after their kind: and God saw that it was good.\n",
      "And there was evening and there was morning, a third day.\n",
      "And God said, Let there be lights in the firmament of heaven to divide the day from the night; and let them be for signs, and for seasons, and for days and years:\n",
      "and let them be for lights in the firmament of heaven to give light upon the earth: and it was so.\n",
      "And God made the two great lights; the greater light to rule the day, and the lesser light to rule the night: `he made' the stars also.\n",
      "And God set them in the firmament of heaven to give light upon the earth,\n",
      "and to rule over the day and over the night, and to divide the light from the darkness: and God saw that it was good.\n",
      "And there was evening and there was morning, a fourth day.\n",
      "And God said, Let the waters swarm with swarms of living creatures, and let birds fly above the earth in the open firmament of heaven.\n",
      "And God created the great sea-monsters, and every living creature that moveth, wherewith the waters swarmed, after their kind, and every winged bird after its kind: and God saw that it was good.\n",
      "And God blessed them, saying, Be fruitful, and multiply, and fill the waters in the seas, and let birds multiply on the earth.\n",
      "And there was evening and there was morning, a fifth day.\n",
      "And God said, Let the earth bring forth living creatures after their kind, cattle, and creeping things, and beasts of the earth after their kind: and it was so.\n",
      "And God made the beasts of the earth after their kind, and the cattle after their kind, and everything that creepeth upon the ground after its kind: and God saw that it was good.\n",
      "And God said, Let us make man in our image, after our likeness: and let them have dominion over the fish of the sea, and over the birds of the heavens, and over the cattle, and over all the earth, and over every creeping thing that creepeth upon the earth.\n",
      "And God created man in his own image, in the image of God created he him; male and female created he them.\n",
      "And God blessed them: and God said unto them, Be fruitful, and multiply, and replenish the earth, and subdue it; and have dominion over the fish of the sea, and over the birds of the heavens, and over every living thing that moveth upon the earth.\n",
      "And God said, Behold, I have given you every herb yielding seed, which is upon the face of all the earth, and every tree, in which is the fruit of a tree yielding seed; to you it shall be for food:\n",
      "and to every beast of the earth, and to every bird of the heavens, and to everything that creepeth upon the earth, wherein there is life, `I have given' every green herb for food: and it was so.\n",
      "And God saw everything that he had made, and, behold, it was very good.\n",
      "And there was evening and there was morning, the sixth day.\n"
     ]
    }
   ],
   "source": [
    "print(gen1str)"
   ]
  },
  {
   "cell_type": "code",
   "execution_count": 44,
   "metadata": {},
   "outputs": [],
   "source": [
    "text = gen1str"
   ]
  },
  {
   "cell_type": "code",
   "execution_count": 45,
   "metadata": {},
   "outputs": [
    {
     "name": "stdout",
     "output_type": "stream",
     "text": [
      "In the beginning God created the heavens and the earth.\n",
      "And the earth was waste and void; and darkness was upon the face of the deep: and the Spirit of God moved upon the face of the waters.\n",
      "And God said, Let there be light: and there was light.\n",
      "And God saw the light, that it was good: and God divided the light from the darkness.\n",
      "And God called the light Day, and the darkness he called Night.\n",
      "And there was evening and there was morning, one day.\n",
      "And God said, Let there be a firmament in the midst of the waters, and let it divide the waters from the waters.\n",
      "And God made the firmament, and divided the waters which were under the firmament from the waters which were above the firmament: and it was so.\n",
      "And God called the firmament Heaven.\n",
      "And there was evening and there was morning, a second day.\n",
      "And God said, Let the waters under the heavens be gathered together unto one place, and let the dry land appear: and it was so.\n",
      "And God called the dry land Earth; and the gathering together of the waters called he Seas: and God saw that it was good.\n",
      "And God said, Let the earth put forth grass, herbs yielding seed, `and' fruit-trees bearing fruit after their kind, wherein is the seed thereof, upon the earth: and it was so.\n",
      "And the earth brought forth grass, herbs yielding seed after their kind, and trees bearing fruit, wherein is the seed thereof, after their kind: and God saw that it was good.\n",
      "And there was evening and there was morning, a third day.\n",
      "And God said, Let there be lights in the firmament of heaven to divide the day from the night; and let them be for signs, and for seasons, and for days and years:\n",
      "and let them be for lights in the firmament of heaven to give light upon the earth: and it was so.\n",
      "And God made the two great lights; the greater light to rule the day, and the lesser light to rule the night: `he made' the stars also.\n",
      "And God set them in the firmament of heaven to give light upon the earth,\n",
      "and to rule over the day and over the night, and to divide the light from the darkness: and God saw that it was good.\n",
      "And there was evening and there was morning, a fourth day.\n",
      "And God said, Let the waters swarm with swarms of living creatures, and let birds fly above the earth in the open firmament of heaven.\n",
      "And God created the great sea-monsters, and every living creature that moveth, wherewith the waters swarmed, after their kind, and every winged bird after its kind: and God saw that it was good.\n",
      "And God blessed them, saying, Be fruitful, and multiply, and fill the waters in the seas, and let birds multiply on the earth.\n",
      "And there was evening and there was morning, a fifth day.\n",
      "And God said, Let the earth bring forth living creatures after their kind, cattle, and creeping things, and beasts of the earth after their kind: and it was so.\n",
      "And God made the beasts of the earth after their kind, and the cattle after their kind, and everything that creepeth upon the ground after its kind: and God saw that it was good.\n",
      "And God said, Let us make man in our image, after our likeness: and let them have dominion over the fish of the sea, and over the birds of the heavens, and over the cattle, and over all the earth, and over every creeping thing that creepeth upon the earth.\n",
      "And God created man in his own image, in the image of God created he him; male and female created he them.\n",
      "And God blessed them: and God said unto them, Be fruitful, and multiply, and replenish the earth, and subdue it; and have dominion over the fish of the sea, and over the birds of the heavens, and over every living thing that moveth upon the earth.\n",
      "And God said, Behold, I have given you every herb yielding seed, which is upon the face of all the earth, and every tree, in which is the fruit of a tree yielding seed; to you it shall be for food:\n",
      "and to every beast of the earth, and to every bird of the heavens, and to everything that creepeth upon the earth, wherein there is life, `I have given' every green herb for food: and it was so.\n",
      "And God saw everything that he had made, and, behold, it was very good.\n",
      "And there was evening and there was morning, the sixth day.\n"
     ]
    }
   ],
   "source": [
    "print(text)"
   ]
  },
  {
   "cell_type": "code",
   "execution_count": 47,
   "metadata": {},
   "outputs": [
    {
     "name": "stderr",
     "output_type": "stream",
     "text": [
      "2018-07-01 18:05:36,979 : INFO : adding document #0 to Dictionary(0 unique tokens: [])\n",
      "2018-07-01 18:05:36,985 : INFO : built Dictionary(92 unique tokens: ['begin', 'creat', 'earth', 'god', 'heaven']...) from 34 documents (total 333 corpus positions)\n"
     ]
    },
    {
     "name": "stdout",
     "output_type": "stream",
     "text": [
      "['And the earth brought forth grass, herbs yielding seed after their kind, and trees bearing fruit, wherein is the seed thereof, after their kind: and God saw that it was good.', 'And God said, Let there be lights in the firmament of heaven to divide the day from the night; and let them be for signs, and for seasons, and for days and years:', 'and to rule over the day and over the night, and to divide the light from the darkness: and God saw that it was good.', 'And God said, Let the waters swarm with swarms of living creatures, and let birds fly above the earth in the open firmament of heaven.', 'And God said, Let the earth bring forth living creatures after their kind, cattle, and creeping things, and beasts of the earth after their kind: and it was so.', 'And God said, Let us make man in our image, after our likeness: and let them have dominion over the fish of the sea, and over the birds of the heavens, and over the cattle, and over all the earth, and over every creeping thing that creepeth upon the earth.']\n"
     ]
    }
   ],
   "source": [
    "print (summarize(text, split=True))"
   ]
  },
  {
   "cell_type": "code",
   "execution_count": 48,
   "metadata": {},
   "outputs": [
    {
     "name": "stderr",
     "output_type": "stream",
     "text": [
      "2018-07-01 18:05:40,927 : INFO : adding document #0 to Dictionary(0 unique tokens: [])\n",
      "2018-07-01 18:05:40,931 : INFO : built Dictionary(92 unique tokens: ['begin', 'creat', 'earth', 'god', 'heaven']...) from 34 documents (total 333 corpus positions)\n"
     ]
    },
    {
     "name": "stdout",
     "output_type": "stream",
     "text": [
      "Summary:\n",
      "And God saw the light, that it was good: and God divided the light from the darkness.\n",
      "And God called the light Day, and the darkness he called Night.\n",
      "And God said, Let the waters under the heavens be gathered together unto one place, and let the dry land appear: and it was so.\n",
      "And God called the dry land Earth; and the gathering together of the waters called he Seas: and God saw that it was good.\n",
      "And God said, Let the earth put forth grass, herbs yielding seed, `and' fruit-trees bearing fruit after their kind, wherein is the seed thereof, upon the earth: and it was so.\n",
      "And the earth brought forth grass, herbs yielding seed after their kind, and trees bearing fruit, wherein is the seed thereof, after their kind: and God saw that it was good.\n",
      "And God said, Let there be lights in the firmament of heaven to divide the day from the night; and let them be for signs, and for seasons, and for days and years:\n",
      "And God set them in the firmament of heaven to give light upon the earth,\n",
      "and to rule over the day and over the night, and to divide the light from the darkness: and God saw that it was good.\n",
      "And God said, Let the waters swarm with swarms of living creatures, and let birds fly above the earth in the open firmament of heaven.\n",
      "And God created the great sea-monsters, and every living creature that moveth, wherewith the waters swarmed, after their kind, and every winged bird after its kind: and God saw that it was good.\n",
      "And God blessed them, saying, Be fruitful, and multiply, and fill the waters in the seas, and let birds multiply on the earth.\n",
      "And God said, Let the earth bring forth living creatures after their kind, cattle, and creeping things, and beasts of the earth after their kind: and it was so.\n",
      "And God made the beasts of the earth after their kind, and the cattle after their kind, and everything that creepeth upon the ground after its kind: and God saw that it was good.\n",
      "And God said, Let us make man in our image, after our likeness: and let them have dominion over the fish of the sea, and over the birds of the heavens, and over the cattle, and over all the earth, and over every creeping thing that creepeth upon the earth.\n",
      "And God blessed them: and God said unto them, Be fruitful, and multiply, and replenish the earth, and subdue it; and have dominion over the fish of the sea, and over the birds of the heavens, and over every living thing that moveth upon the earth.\n",
      "And God said, Behold, I have given you every herb yielding seed, which is upon the face of all the earth, and every tree, in which is the fruit of a tree yielding seed; to you it shall be for food:\n"
     ]
    }
   ],
   "source": [
    "print ('Summary:')\n",
    "print (summarize(text, ratio=0.5))"
   ]
  },
  {
   "cell_type": "code",
   "execution_count": 49,
   "metadata": {},
   "outputs": [
    {
     "name": "stderr",
     "output_type": "stream",
     "text": [
      "2018-07-01 18:05:45,157 : INFO : adding document #0 to Dictionary(0 unique tokens: [])\n",
      "2018-07-01 18:05:45,160 : INFO : built Dictionary(92 unique tokens: ['begin', 'creat', 'earth', 'god', 'heaven']...) from 34 documents (total 333 corpus positions)\n"
     ]
    },
    {
     "name": "stdout",
     "output_type": "stream",
     "text": [
      "Summary:\n",
      "And the earth brought forth grass, herbs yielding seed after their kind, and trees bearing fruit, wherein is the seed thereof, after their kind: and God saw that it was good.\n",
      "And God said, Let there be lights in the firmament of heaven to divide the day from the night; and let them be for signs, and for seasons, and for days and years:\n",
      "and to rule over the day and over the night, and to divide the light from the darkness: and God saw that it was good.\n",
      "And God said, Let the waters swarm with swarms of living creatures, and let birds fly above the earth in the open firmament of heaven.\n",
      "And God said, Let us make man in our image, after our likeness: and let them have dominion over the fish of the sea, and over the birds of the heavens, and over the cattle, and over all the earth, and over every creeping thing that creepeth upon the earth.\n"
     ]
    }
   ],
   "source": [
    "print ('Summary:')\n",
    "print (summarize(text, word_count=150))"
   ]
  },
  {
   "cell_type": "code",
   "execution_count": 50,
   "metadata": {},
   "outputs": [
    {
     "name": "stdout",
     "output_type": "stream",
     "text": [
      "Keywords:\n",
      "god created\n",
      "day\n",
      "days\n",
      "birds\n",
      "bird\n",
      "light\n",
      "lights\n",
      "said\n",
      "forth\n",
      "called\n",
      "land\n",
      "firmament\n",
      "living\n",
      "herbs\n",
      "herb\n"
     ]
    }
   ],
   "source": [
    "print ('Keywords:')\n",
    "print (keywords(text))"
   ]
  },
  {
   "cell_type": "code",
   "execution_count": 41,
   "metadata": {},
   "outputs": [
    {
     "name": "stdout",
     "output_type": "stream",
     "text": [
      "['And the heavens and the earth were finished, and all the host of them.', 'And on the seventh day God finished his work which he had made; and he rested on the seventh day from all his work which he had made.', 'And God blessed the seventh day, and hallowed it; because that in it he rested from all his work which God had created and made.', 'These are the generations of the heavens and of the earth when they were created, in the day that Jehovah God made earth and heaven.', 'And no plant of the field was yet in the earth, and no herb of the field had yet sprung up; for Jehovah God had not caused it to rain upon the earth: and there was not a man to till the ground;', 'but there went up a mist from the earth, and watered the whole face of the ground.', 'And Jehovah God formed man of the dust of the ground, and breathed into his nostrils the breath of life; and man became a living soul.', 'And Jehovah God planted a garden eastward, in Eden; and there he put the man whom he had formed.', 'And out of the ground made Jehovah God to grow every tree that is pleasant to the sight, and good for food; the tree of life also in the midst of the garden, and the tree of the knowledge of good and evil.', 'And a river went out of Eden to water the garden; and from thence it was parted, and became four heads.', 'The name of the first is Pishon: that is it which compasseth the whole land of Havilah, where there is gold;', 'and the gold of that land is good: there is bdellium and the onyx stone.', 'And the name of the second river is Gihon: the same is it that compasseth the whole land of Cush.', 'And the name of the third river is Hiddekel: that is it which goeth in front of Assyria.', 'And the fourth river is the Euphrates.', 'And Jehovah God took the man, and put him into the garden of Eden to dress it and to keep it.', 'And Jehovah God commanded the man, saying, Of every tree of the garden thou mayest freely eat:', 'but of the tree of the knowledge of good and evil, thou shalt not eat of it: for in the day that thou eatest thereof thou shalt surely die.', 'And Jehovah God said, It is not good that the man should be alone; I will make him a help meet for him.', 'And out of the ground Jehovah God formed every beast of the field, and every bird of the heavens; and brought them unto the man to see what he would call them: and whatsoever the man called every living creature, that was the name thereof.', 'And the man gave names to all cattle, and to the birds of the heavens, and to every beast of the field; but for man there was not found a help meet for him.', 'And Jehovah God caused a deep sleep to fall upon the man, and he slept; and he took one of his ribs, and closed up the flesh instead thereof:', 'and the rib, which Jehovah God had taken from the man, made he a woman, and brought her unto the man.', 'And the man said, This is now bone of my bones, and flesh of my flesh: she shall be called Woman, because she was taken out of Man.', 'Therefore shall a man leave his father and his mother, and shall cleave unto his wife: and they shall be one flesh.', 'And they were both naked, the man and his wife, and were not ashamed.']\n"
     ]
    }
   ],
   "source": [
    "all_gen2_verse=[]\n",
    "for verse in gen2:\n",
    "    gen2verse = sent_tokenize(verse)\n",
    "    all_gen2_verse.extend(gen2verse)\n",
    "    \n",
    "print(all_gen2_verse)"
   ]
  },
  {
   "cell_type": "code",
   "execution_count": 42,
   "metadata": {},
   "outputs": [],
   "source": [
    "gen2str = '\\n'.join(all_gen2_verse)"
   ]
  },
  {
   "cell_type": "code",
   "execution_count": 43,
   "metadata": {
    "scrolled": true
   },
   "outputs": [
    {
     "name": "stdout",
     "output_type": "stream",
     "text": [
      "And the heavens and the earth were finished, and all the host of them.\n",
      "And on the seventh day God finished his work which he had made; and he rested on the seventh day from all his work which he had made.\n",
      "And God blessed the seventh day, and hallowed it; because that in it he rested from all his work which God had created and made.\n",
      "These are the generations of the heavens and of the earth when they were created, in the day that Jehovah God made earth and heaven.\n",
      "And no plant of the field was yet in the earth, and no herb of the field had yet sprung up; for Jehovah God had not caused it to rain upon the earth: and there was not a man to till the ground;\n",
      "but there went up a mist from the earth, and watered the whole face of the ground.\n",
      "And Jehovah God formed man of the dust of the ground, and breathed into his nostrils the breath of life; and man became a living soul.\n",
      "And Jehovah God planted a garden eastward, in Eden; and there he put the man whom he had formed.\n",
      "And out of the ground made Jehovah God to grow every tree that is pleasant to the sight, and good for food; the tree of life also in the midst of the garden, and the tree of the knowledge of good and evil.\n",
      "And a river went out of Eden to water the garden; and from thence it was parted, and became four heads.\n",
      "The name of the first is Pishon: that is it which compasseth the whole land of Havilah, where there is gold;\n",
      "and the gold of that land is good: there is bdellium and the onyx stone.\n",
      "And the name of the second river is Gihon: the same is it that compasseth the whole land of Cush.\n",
      "And the name of the third river is Hiddekel: that is it which goeth in front of Assyria.\n",
      "And the fourth river is the Euphrates.\n",
      "And Jehovah God took the man, and put him into the garden of Eden to dress it and to keep it.\n",
      "And Jehovah God commanded the man, saying, Of every tree of the garden thou mayest freely eat:\n",
      "but of the tree of the knowledge of good and evil, thou shalt not eat of it: for in the day that thou eatest thereof thou shalt surely die.\n",
      "And Jehovah God said, It is not good that the man should be alone; I will make him a help meet for him.\n",
      "And out of the ground Jehovah God formed every beast of the field, and every bird of the heavens; and brought them unto the man to see what he would call them: and whatsoever the man called every living creature, that was the name thereof.\n",
      "And the man gave names to all cattle, and to the birds of the heavens, and to every beast of the field; but for man there was not found a help meet for him.\n",
      "And Jehovah God caused a deep sleep to fall upon the man, and he slept; and he took one of his ribs, and closed up the flesh instead thereof:\n",
      "and the rib, which Jehovah God had taken from the man, made he a woman, and brought her unto the man.\n",
      "And the man said, This is now bone of my bones, and flesh of my flesh: she shall be called Woman, because she was taken out of Man.\n",
      "Therefore shall a man leave his father and his mother, and shall cleave unto his wife: and they shall be one flesh.\n",
      "And they were both naked, the man and his wife, and were not ashamed.\n"
     ]
    }
   ],
   "source": [
    "print(gen2str)"
   ]
  },
  {
   "cell_type": "code",
   "execution_count": null,
   "metadata": {},
   "outputs": [],
   "source": []
  },
  {
   "cell_type": "code",
   "execution_count": null,
   "metadata": {},
   "outputs": [],
   "source": []
  },
  {
   "cell_type": "code",
   "execution_count": 54,
   "metadata": {},
   "outputs": [],
   "source": [
    "text2 = gen2str"
   ]
  },
  {
   "cell_type": "code",
   "execution_count": 55,
   "metadata": {},
   "outputs": [
    {
     "name": "stderr",
     "output_type": "stream",
     "text": [
      "2018-07-01 18:07:05,025 : INFO : adding document #0 to Dictionary(0 unique tokens: [])\n",
      "2018-07-01 18:07:05,028 : INFO : built Dictionary(110 unique tokens: ['earth', 'finish', 'heaven', 'host', 'dai']...) from 25 documents (total 237 corpus positions)\n"
     ]
    },
    {
     "name": "stdout",
     "output_type": "stream",
     "text": [
      "Summary:\n",
      "And Jehovah God planted a garden eastward, in Eden; and there he put the man whom he had formed.\n",
      "And a river went out of Eden to water the garden; and from thence it was parted, and became four heads.\n",
      "And Jehovah God took the man, and put him into the garden of Eden to dress it and to keep it.\n",
      "And Jehovah God said, It is not good that the man should be alone; I will make him a help meet for him.\n",
      "And out of the ground Jehovah God formed every beast of the field, and every bird of the heavens; and brought them unto the man to see what he would call them: and whatsoever the man called every living creature, that was the name thereof.\n"
     ]
    }
   ],
   "source": [
    "print ('Summary:')\n",
    "print (summarize(text2, word_count=150))"
   ]
  },
  {
   "cell_type": "code",
   "execution_count": 58,
   "metadata": {},
   "outputs": [
    {
     "name": "stderr",
     "output_type": "stream",
     "text": [
      "2018-07-01 18:08:02,449 : INFO : adding document #0 to Dictionary(0 unique tokens: [])\n",
      "2018-07-01 18:08:02,453 : INFO : built Dictionary(110 unique tokens: ['earth', 'finish', 'heaven', 'host', 'dai']...) from 25 documents (total 237 corpus positions)\n"
     ]
    },
    {
     "name": "stdout",
     "output_type": "stream",
     "text": [
      "Summary:\n",
      "And Jehovah God planted a garden eastward, in Eden; and there he put the man whom he had formed.\n",
      "And a river went out of Eden to water the garden; and from thence it was parted, and became four heads.\n",
      "And Jehovah God took the man, and put him into the garden of Eden to dress it and to keep it.\n",
      "And Jehovah God said, It is not good that the man should be alone; I will make him a help meet for him.\n",
      "And out of the ground Jehovah God formed every beast of the field, and every bird of the heavens; and brought them unto the man to see what he would call them: and whatsoever the man called every living creature, that was the name thereof.\n"
     ]
    }
   ],
   "source": [
    "print ('Summary:')\n",
    "print (summarize(text2, ratio=0.2))"
   ]
  },
  {
   "cell_type": "code",
   "execution_count": 56,
   "metadata": {},
   "outputs": [
    {
     "name": "stdout",
     "output_type": "stream",
     "text": [
      "Keywords:\n",
      "god created\n",
      "day\n",
      "days\n",
      "birds\n",
      "bird\n",
      "light\n",
      "lights\n",
      "said\n",
      "forth\n",
      "called\n",
      "land\n",
      "firmament\n",
      "living\n",
      "herbs\n",
      "herb\n"
     ]
    }
   ],
   "source": [
    "print ('Keywords:')\n",
    "print (keywords(text))"
   ]
  },
  {
   "cell_type": "code",
   "execution_count": 71,
   "metadata": {},
   "outputs": [
    {
     "name": "stdout",
     "output_type": "stream",
     "text": [
      "Now the serpent was more subtle than any beast of the field which Jehovah God had made.\n",
      "And he said unto the woman, Yea, hath God said, Ye shall not eat of any tree of the garden?\n",
      "And the woman said unto the serpent, Of the fruit of the trees of the garden we may eat:\n",
      "but of the fruit of the tree which is in the midst of the garden, God hath said, Ye shall not eat of it, neither shall ye touch it, lest ye die.\n",
      "And the serpent said unto the woman, Ye shall not surely die:\n",
      "for God doth know that in the day ye eat thereof, then your eyes shall be opened, and ye shall be as God, knowing good and evil.\n",
      "And when the woman saw that the tree was good for food, and that it was a delight to the eyes, and that the tree was to be desired to make one wise, she took of the fruit thereof, and did eat; and she gave also unto her husband with her, and he did eat.\n",
      "And the eyes of them both were opened, and they knew that they were naked; and they sewed fig-leaves together, and made themselves aprons.\n",
      "And they heard the voice of Jehovah God walking in the garden in the cool of the day: and the man and his wife hid themselves from the presence of Jehovah God amongst the trees of the garden.\n",
      "And Jehovah God called unto the man, and said unto him, Where art thou?\n",
      "And he said, I heard thy voice in the garden, and I was afraid, because I was naked; and I hid myself.\n",
      "And he said, Who told thee that thou wast naked?\n",
      "Hast thou eaten of the tree, whereof I commanded thee that thou shouldest not eat?\n",
      "And the man said, The woman whom thou gavest to be with me, she gave me of the tree, and I did eat.\n",
      "And Jehovah God said unto the woman, What is this thou hast done?\n",
      "And the woman said, The serpent beguiled me, and I did eat.\n",
      "And Jehovah God said unto the serpent, Because thou hast done this, cursed art thou above all cattle, and above every beast of the field; upon thy belly shalt thou go, and dust shalt thou eat all the days of thy life:\n",
      "and I will put enmity between thee and the woman, and between thy seed and her seed: he shall bruise thy head, and thou shalt bruise his heel.\n",
      "Unto the woman he said, I will greatly multiply thy pain and thy conception; in pain thou shalt bring forth children; and thy desire shall be to thy husband, and he shall rule over thee.\n",
      "And unto Adam he said, Because thou hast hearkened unto the voice of thy wife, and hast eaten of the tree, of which I commanded thee, saying, Thou shalt not eat of it: cursed is the ground for thy sake; in toil shalt thou eat of it all the days of thy life;\n",
      "thorns also and thistles shall it bring forth to thee; and thou shalt eat the herb of the field;\n",
      "in the sweat of thy face shalt thou eat bread, till thou return unto the ground; for out of it wast thou taken: for dust thou art, and unto dust shalt thou return.\n",
      "And the man called his wife's name Eve; because she was the mother of all living.\n",
      "And Jehovah God made for Adam and for his wife coats of skins, and clothed them.\n",
      "And Jehovah God said, Behold, the man is become as one of us, to know good and evil; and now, lest he put forth his hand, and take also of the tree of life, and eat, and live for ever-\n",
      "therefore Jehovah God sent him forth from the garden of Eden, to till the ground from whence he was taken.\n",
      "So he drove out the man; and he placed at the east of the garden of Eden the Cherubim, and the flame of a sword which turned every way, to keep the way of the tree of life.\n"
     ]
    }
   ],
   "source": [
    "all_gen3_verse=[]\n",
    "gen3str=[]\n",
    "for verse in gen3:\n",
    "    gen3verse = sent_tokenize(verse)\n",
    "    all_gen3_verse.extend(gen3verse)\n",
    "    gen3str = '\\n'.join(all_gen3_verse)\n",
    "print(gen3str)"
   ]
  },
  {
   "cell_type": "code",
   "execution_count": 75,
   "metadata": {},
   "outputs": [
    {
     "name": "stderr",
     "output_type": "stream",
     "text": [
      "2018-07-02 14:57:17,014 : INFO : adding document #0 to Dictionary(0 unique tokens: [])\n",
      "2018-07-02 14:57:17,018 : INFO : built Dictionary(118 unique tokens: ['beast', 'field', 'god', 'jehovah', 'serpent']...) from 27 documents (total 330 corpus positions)\n"
     ]
    },
    {
     "name": "stdout",
     "output_type": "stream",
     "text": [
      "And he said unto the woman, Yea, hath God said, Ye shall not eat of any tree of the garden?\n",
      "And the woman said unto the serpent, Of the fruit of the trees of the garden we may eat:\n",
      "And Jehovah God said unto the serpent, Because thou hast done this, cursed art thou above all cattle, and above every beast of the field; upon thy belly shalt thou go, and dust shalt thou eat all the days of thy life:\n",
      "Unto the woman he said, I will greatly multiply thy pain and thy conception; in pain thou shalt bring forth children; and thy desire shall be to thy husband, and he shall rule over thee.\n",
      "And unto Adam he said, Because thou hast hearkened unto the voice of thy wife, and hast eaten of the tree, of which I commanded thee, saying, Thou shalt not eat of it: cursed is the ground for thy sake; in toil shalt thou eat of it all the days of thy life;\n",
      "And Jehovah God said, Behold, the man is become as one of us, to know good and evil; and now, lest he put forth his hand, and take also of the tree of life, and eat, and live for ever-\n"
     ]
    }
   ],
   "source": [
    "summ3 = summarize(gen3str, word_count=200)\n",
    "print(summ3)"
   ]
  },
  {
   "cell_type": "code",
   "execution_count": 78,
   "metadata": {},
   "outputs": [
    {
     "name": "stdout",
     "output_type": "stream",
     "text": [
      "And Moses called unto all Israel, and said unto them, Hear, O Israel, the statutes and the ordinances which I speak in your ears this day, that ye may learn them, and observe to do them.\n",
      "Jehovah our God made a covenant with us in Horeb.\n",
      "Jehovah made not this covenant with our fathers, but with us, even us, who are all of us here alive this day.\n",
      "Jehovah spake with you face to face in the mount out of the midst of the fire,\n",
      "(I stood between Jehovah and you at that time, to show you the word of Jehovah: for ye were afraid because of the fire, and went not up into the mount;) saying,\n",
      "I am Jehovah thy God, who brought thee out of the land of Egypt, out of the house of bondage.\n",
      "Thou shalt have no other gods before me.\n",
      "Thou shalt not make unto thee a graven image, `nor' any likeness `of anything' that is in heaven above, or that is in the earth beneath, or that is in the water under the earth:\n",
      "thou shalt not bow down thyself unto them, nor serve them; for I, Jehovah, thy God, am a jealous God, visiting the iniquity of the fathers upon the children, and upon the third and upon the fourth generation of them that hate me;\n",
      "and showing lovingkindness unto thousands of them that love me and keep my commandments.\n",
      "Thou shalt not take the name of Jehovah thy God in vain: for Jehovah will not hold him guiltless that taketh his name in vain.\n",
      "Observe the sabbath day, to keep it holy, as Jehovah thy God commanded thee.\n",
      "Six days shalt thou labor, and do all thy work;\n",
      "but the seventh day is a sabbath unto Jehovah thy God: `in it' thou shalt not do any work, thou, nor thy son, nor thy daughter, nor thy man-servant, nor thy maid-servant, nor thine ox, nor thine ass, nor any of thy cattle, nor thy stranger that is within thy gates; that thy man-servant and thy maid-servant may rest as well as thou.\n",
      "And thou shalt remember that thou wast a servant in the land of Egypt, and Jehovah thy God brought thee out thence by a mighty hand and by an outstretched arm: therefore Jehovah thy God commanded thee to keep the sabbath day.\n",
      "Honor thy father and thy mother, as Jehovah thy God commanded thee; that thy days may be long, and that it may go well with thee, in the land which Jehovah thy God giveth thee.\n",
      "Thou shalt not kill.\n",
      "Neither shalt thou commit adultery.\n",
      "Neither shalt thou steal.\n",
      "Neither shalt thou bear false witness against thy neighbor.\n",
      "Neither shalt thou covet thy neighbor's wife; neither shalt thou desire thy neighbor's house, his field, or his man-servant, or his maid-servant, his ox, or his ass, or anything that is thy neighbor's.\n",
      "These words Jehovah spake unto all your assembly in the mount out of the midst of the fire, of the cloud, and of the thick darkness, with a great voice: and he added no more.\n",
      "And he wrote them upon two tables of stone, and gave them unto me.\n",
      "And it came to pass, when ye heard the voice out of the midst of the darkness, while the mountain was burning with fire, that ye came near unto me, even all the heads of your tribes, and your elders;\n",
      "and ye said, Behold, Jehovah our God hath showed us his glory and his greatness, and we have heard his voice out of the midst of the fire: we have seen this day that God doth speak with man, and he liveth.\n",
      "Now therefore why should we die?\n",
      "for this great fire will consume us: if we hear the voice of Jehovah our God any more, then we shall die.\n",
      "For who is there of all flesh, that hath heard the voice of the living God speaking out of the midst of the fire, as we have, and lived?\n",
      "Go thou near, and hear all that Jehovah our God shall say: and speak thou unto us all that Jehovah our God shall speak unto thee; and we will hear it, and do it.\n",
      "And Jehovah heard the voice of your words, when ye spake unto me; and Jehovah said unto me, I have heard the voice of the words of this people, which they have spoken unto thee: they have well said all that they have spoken.\n",
      "Oh that there were such a heart in them, that they would fear me, and keep all my commandments always, that it might be well with them, and with their children for ever!\n",
      "Go say to them, Return ye to your tents.\n",
      "But as for thee, stand thou here by me, and I will speak unto thee all the commandment, and the statutes, and the ordinances, which thou shalt teach them, that they may do them in the land which I give them to possess it.\n",
      "Ye shall observe to do therefore as Jehovah your God hath commanded you: ye shall not turn aside to the right hand or to the left.\n",
      "Ye shall walk in all the way which Jehovah your God hath commanded you, that ye may live, and that it may be well with you, and that ye may prolong your days in the land which ye shall possess.\n"
     ]
    }
   ],
   "source": [
    "all_deut5_verse=[]\n",
    "deut5str=[]\n",
    "for verse in deut5:\n",
    "    deut5verse = sent_tokenize(verse)\n",
    "    all_deut5_verse.extend(deut5verse)\n",
    "    deut5str = '\\n'.join(all_deut5_verse)\n",
    "print(deut5str)"
   ]
  },
  {
   "cell_type": "code",
   "execution_count": 79,
   "metadata": {},
   "outputs": [
    {
     "name": "stderr",
     "output_type": "stream",
     "text": [
      "2018-07-02 20:37:55,064 : INFO : adding document #0 to Dictionary(0 unique tokens: [])\n",
      "2018-07-02 20:37:55,069 : INFO : built Dictionary(148 unique tokens: ['call', 'dai', 'ear', 'hear', 'israel']...) from 35 documents (total 378 corpus positions)\n"
     ]
    },
    {
     "name": "stdout",
     "output_type": "stream",
     "text": [
      "thou shalt not bow down thyself unto them, nor serve them; for I, Jehovah, thy God, am a jealous God, visiting the iniquity of the fathers upon the children, and upon the third and upon the fourth generation of them that hate me;\n",
      "Observe the sabbath day, to keep it holy, as Jehovah thy God commanded thee.\n",
      "And thou shalt remember that thou wast a servant in the land of Egypt, and Jehovah thy God brought thee out thence by a mighty hand and by an outstretched arm: therefore Jehovah thy God commanded thee to keep the sabbath day.\n",
      "and ye said, Behold, Jehovah our God hath showed us his glory and his greatness, and we have heard his voice out of the midst of the fire: we have seen this day that God doth speak with man, and he liveth.\n",
      "But as for thee, stand thou here by me, and I will speak unto thee all the commandment, and the statutes, and the ordinances, which thou shalt teach them, that they may do them in the land which I give them to possess it.\n"
     ]
    }
   ],
   "source": [
    "deut5summ = summarize(deut5str, word_count=200)\n",
    "print(deut5summ)"
   ]
  },
  {
   "cell_type": "code",
   "execution_count": null,
   "metadata": {},
   "outputs": [],
   "source": []
  },
  {
   "cell_type": "code",
   "execution_count": null,
   "metadata": {},
   "outputs": [],
   "source": []
  },
  {
   "cell_type": "markdown",
   "metadata": {},
   "source": [
    "### \n",
    "https://github.com/davidadamojr/TextRank/blob/master/textrank/__init__.py"
   ]
  },
  {
   "cell_type": "code",
   "execution_count": 64,
   "metadata": {},
   "outputs": [],
   "source": [
    "\"\"\"Python implementation of the TextRank algoritm.\n",
    "From this paper:\n",
    "    https://web.eecs.umich.edu/~mihalcea/papers/mihalcea.emnlp04.pdf\n",
    "Based on:\n",
    "    https://gist.github.com/voidfiles/1646117\n",
    "    https://github.com/davidadamojr/TextRank\n",
    "\"\"\"\n",
    "import editdistance\n",
    "import io\n",
    "import itertools\n",
    "import networkx as nx\n",
    "import nltk\n",
    "import os\n",
    "\n",
    "\n",
    "def setup_environment():\n",
    "    \"\"\"Download required resources.\"\"\"\n",
    "    nltk.download('punkt')\n",
    "    nltk.download('averaged_perceptron_tagger')\n",
    "    print('Completed resource downloads.')\n",
    "\n",
    "\n",
    "def filter_for_tags(tagged, tags=['NN', 'JJ', 'NNP']):\n",
    "    \"\"\"Apply syntactic filters based on POS tags.\"\"\"\n",
    "    return [item for item in tagged if item[1] in tags]\n",
    "\n",
    "\n",
    "def normalize(tagged):\n",
    "    \"\"\"Return a list of tuples with the first item's periods removed.\"\"\"\n",
    "    return [(item[0].replace('.', ''), item[1]) for item in tagged]\n",
    "\n",
    "\n",
    "def unique_everseen(iterable, key=None):\n",
    "    \"\"\"List unique elements in order of appearance.\n",
    "    Examples:\n",
    "        unique_everseen('AAAABBBCCDAABBB') --> A B C D\n",
    "        unique_everseen('ABBCcAD', str.lower) --> A B C D\n",
    "    \"\"\"\n",
    "    seen = set()\n",
    "    seen_add = seen.add\n",
    "    if key is None:\n",
    "        for element in [x for x in iterable if x not in seen]:\n",
    "            seen_add(element)\n",
    "            yield element\n",
    "    else:\n",
    "        for element in iterable:\n",
    "            k = key(element)\n",
    "            if k not in seen:\n",
    "                seen_add(k)\n",
    "                yield element\n",
    "\n",
    "\n",
    "def build_graph(nodes):\n",
    "    \"\"\"Return a networkx graph instance.\n",
    "    :param nodes: List of hashables that represent the nodes of a graph.\n",
    "    \"\"\"\n",
    "    gr = nx.Graph()  # initialize an undirected graph\n",
    "    gr.add_nodes_from(nodes)\n",
    "    nodePairs = list(itertools.combinations(nodes, 2))\n",
    "\n",
    "    # add edges to the graph (weighted by Levenshtein distance)\n",
    "    for pair in nodePairs:\n",
    "        firstString = pair[0]\n",
    "        secondString = pair[1]\n",
    "        levDistance = editdistance.eval(firstString, secondString)\n",
    "        gr.add_edge(firstString, secondString, weight=levDistance)\n",
    "\n",
    "    return gr\n",
    "\n",
    "\n",
    "def extract_key_phrases(text):\n",
    "    \"\"\"Return a set of key phrases.\n",
    "    :param text: A string.\n",
    "    \"\"\"\n",
    "    # tokenize the text using nltk\n",
    "    word_tokens = nltk.word_tokenize(text)\n",
    "\n",
    "    # assign POS tags to the words in the text\n",
    "    tagged = nltk.pos_tag(word_tokens)\n",
    "    textlist = [x[0] for x in tagged]\n",
    "\n",
    "    tagged = filter_for_tags(tagged)\n",
    "    tagged = normalize(tagged)\n",
    "\n",
    "    unique_word_set = unique_everseen([x[0] for x in tagged])\n",
    "    word_set_list = list(unique_word_set)\n",
    "\n",
    "    # this will be used to determine adjacent words in order to construct\n",
    "    # keyphrases with two words\n",
    "\n",
    "    graph = build_graph(word_set_list)\n",
    "\n",
    "    # pageRank - initial value of 1.0, error tolerance of 0,0001,\n",
    "    calculated_page_rank = nx.pagerank(graph, weight='weight')\n",
    "\n",
    "    # most important words in ascending order of importance\n",
    "    keyphrases = sorted(calculated_page_rank, key=calculated_page_rank.get,\n",
    "                        reverse=True)\n",
    "\n",
    "    # the number of keyphrases returned will be relative to the size of the\n",
    "    # text (a third of the number of vertices)\n",
    "    one_third = len(word_set_list) // 3\n",
    "    keyphrases = keyphrases[0:one_third + 1]\n",
    "\n",
    "    # take keyphrases with multiple words into consideration as done in the\n",
    "    # paper - if two words are adjacent in the text and are selected as\n",
    "    # keywords, join them together\n",
    "    modified_key_phrases = set([])\n",
    "    # keeps track of individual keywords that have been joined to form a\n",
    "    # keyphrase\n",
    "    dealt_with = set([])\n",
    "    i = 0\n",
    "    j = 1\n",
    "    while j < len(textlist):\n",
    "        first = textlist[i]\n",
    "        second = textlist[j]\n",
    "        if first in keyphrases and second in keyphrases:\n",
    "            keyphrase = first + ' ' + second\n",
    "            modified_key_phrases.add(keyphrase)\n",
    "            dealt_with.add(first)\n",
    "            dealt_with.add(second)\n",
    "        else:\n",
    "            if first in keyphrases and first not in dealt_with:\n",
    "                modified_key_phrases.add(first)\n",
    "\n",
    "            # if this is the last word in the text, and it is a keyword, it\n",
    "            # definitely has no chance of being a keyphrase at this point\n",
    "            if j == len(textlist) - 1 and second in keyphrases and \\\n",
    "                    second not in dealt_with:\n",
    "                modified_key_phrases.add(second)\n",
    "\n",
    "        i = i + 1\n",
    "        j = j + 1\n",
    "\n",
    "    return modified_key_phrases\n",
    "\n",
    "\n",
    "def extract_sentences(text, summary_length=200, clean_sentences=False, language='english'):\n",
    "    \"\"\"Return a paragraph formatted summary of the source text.\n",
    "    :param text: A string.\n",
    "    \"\"\"\n",
    "    sent_detector = nltk.data.load('tokenizers/punkt/'+language+'.pickle')\n",
    "    sentence_tokens = sent_detector.tokenize(text.strip())\n",
    "    graph = build_graph(sentence_tokens)\n",
    "\n",
    "    calculated_page_rank = nx.pagerank(graph, weight='weight')\n",
    "\n",
    "    # most important sentences in ascending order of importance\n",
    "    sentences = sorted(calculated_page_rank, key=calculated_page_rank.get,\n",
    "                       reverse=True)\n",
    "\n",
    "    # return a *100* word summary\n",
    "    summary = ' '.join(sentences)\n",
    "    summary_words = summary.split()\n",
    "    summary_words = summary_words[0:summary_length]\n",
    "    dot_indices = [idx for idx, word in enumerate(summary_words) if word.find('.') != -1]\n",
    "    if clean_sentences and dot_indices:\n",
    "        last_dot = max(dot_indices) + 1\n",
    "        summary = ' '.join(summary_words[0:last_dot])\n",
    "    else:\n",
    "        summary = ' '.join(summary_words)\n",
    "\n",
    "    return summary\n",
    "\n",
    "\n",
    "def write_files(summary, key_phrases, filename):\n",
    "    \"\"\"Write key phrases and summaries to a file.\"\"\"\n",
    "    print(\"Generating output to \" + 'keywords/' + filename)\n",
    "    key_phrase_file = io.open('keywords/' + filename, 'w')\n",
    "    for key_phrase in key_phrases:\n",
    "        key_phrase_file.write(key_phrase + '\\n')\n",
    "    key_phrase_file.close()\n",
    "\n",
    "    print(\"Generating output to \" + 'summaries/' + filename)\n",
    "    summary_file = io.open('summaries/' + filename, 'w')\n",
    "    summary_file.write(summary)\n",
    "    summary_file.close()\n",
    "\n",
    "    print(\"-\")\n",
    "\n",
    "\n",
    "def summarize_all():\n",
    "    # retrieve each of the articles\n",
    "    articles = os.listdir(\"articles\")\n",
    "    for article in articles:\n",
    "        print('Reading articles/' + article)\n",
    "        article_file = io.open('articles/' + article, 'r')\n",
    "        text = article_file.read()\n",
    "        keyphrases = extract_key_phrases(text)\n",
    "        summary = extract_sentences(text)\n",
    "        write_files(summary, keyphrases, article)"
   ]
  },
  {
   "cell_type": "code",
   "execution_count": 67,
   "metadata": {},
   "outputs": [
    {
     "data": {
      "text/plain": [
       "\"And God said, Behold, I have given you every herb yielding seed, which is upon the face of all the earth, and every tree, in which is the fruit of a tree yielding seed; to you it shall be for food: and to every beast of the earth, and to every bird of the heavens, and to everything that creepeth upon the earth, wherein there is life, `I have given' every green herb for food: and it was so. And God said, Let there be lights in the firmament of heaven to divide the day from the night; and let them be for signs, and for seasons, and for days and years: and let them be for lights in the firmament of heaven to give light upon the earth: and it was so. And God said, Let us make man in our image, after our likeness: and let them have dominion over the fish of the sea, and over the birds of the heavens, and over the cattle, and over all the earth, and over every creeping thing that creepeth upon the earth. And God blessed them: and God said unto them, Be fruitful, and multiply, and replenish the earth,\""
      ]
     },
     "execution_count": 67,
     "metadata": {},
     "output_type": "execute_result"
    }
   ],
   "source": [
    "extract_sentences(text)"
   ]
  },
  {
   "cell_type": "code",
   "execution_count": 62,
   "metadata": {},
   "outputs": [
    {
     "data": {
      "text/plain": [
       "{'Be fruitful',\n",
       " 'Behold',\n",
       " 'Night',\n",
       " 'Seas',\n",
       " 'Spirit',\n",
       " '`I',\n",
       " '`and',\n",
       " '`he',\n",
       " 'beast',\n",
       " 'beginning God',\n",
       " 'bird',\n",
       " 'darkness',\n",
       " 'day',\n",
       " 'deep',\n",
       " 'dominion',\n",
       " 'dry land',\n",
       " 'earth',\n",
       " 'everything',\n",
       " 'face',\n",
       " 'female',\n",
       " 'fifth day',\n",
       " 'firmament',\n",
       " 'firmament Heaven',\n",
       " 'fish',\n",
       " 'food',\n",
       " 'forth grass',\n",
       " 'forth living',\n",
       " 'fourth day',\n",
       " 'fruit',\n",
       " 'gathering together',\n",
       " 'good',\n",
       " 'great',\n",
       " 'green herb',\n",
       " 'ground',\n",
       " 'heaven',\n",
       " 'herb yielding',\n",
       " 'herbs yielding',\n",
       " 'image',\n",
       " 'kind',\n",
       " 'land Earth',\n",
       " 'land appear',\n",
       " 'life',\n",
       " 'light',\n",
       " 'light Day',\n",
       " 'likeness',\n",
       " 'living',\n",
       " 'living creature',\n",
       " 'living thing',\n",
       " 'male',\n",
       " 'midst',\n",
       " 'morning',\n",
       " 'multiply',\n",
       " 'night',\n",
       " 'open firmament',\n",
       " 'own image',\n",
       " 'place',\n",
       " 'sea',\n",
       " 'second day',\n",
       " 'seed thereof',\n",
       " 'sixth day',\n",
       " 'subdue',\n",
       " 'thing',\n",
       " 'third day',\n",
       " 'together unto',\n",
       " 'void',\n",
       " 'waste',\n",
       " 'wherein',\n",
       " 'yielding seed'}"
      ]
     },
     "execution_count": 62,
     "metadata": {},
     "output_type": "execute_result"
    }
   ],
   "source": [
    "extract_key_phrases(text)  "
   ]
  },
  {
   "cell_type": "code",
   "execution_count": 93,
   "metadata": {},
   "outputs": [],
   "source": [
    "gen3_tr = extract_sentences(gen3str)"
   ]
  },
  {
   "cell_type": "code",
   "execution_count": 94,
   "metadata": {},
   "outputs": [
    {
     "name": "stdout",
     "output_type": "stream",
     "text": [
      "gensim:\n",
      "And he said unto the woman, Yea, hath God said, Ye shall not eat of any tree of the garden?\n",
      "And the woman said unto the serpent, Of the fruit of the trees of the garden we may eat:\n",
      "And Jehovah God said unto the serpent, Because thou hast done this, cursed art thou above all cattle, and above every beast of the field; upon thy belly shalt thou go, and dust shalt thou eat all the days of thy life:\n",
      "Unto the woman he said, I will greatly multiply thy pain and thy conception; in pain thou shalt bring forth children; and thy desire shall be to thy husband, and he shall rule over thee.\n",
      "And unto Adam he said, Because thou hast hearkened unto the voice of thy wife, and hast eaten of the tree, of which I commanded thee, saying, Thou shalt not eat of it: cursed is the ground for thy sake; in toil shalt thou eat of it all the days of thy life;\n",
      "And Jehovah God said, Behold, the man is become as one of us, to know good and evil; and now, lest he put forth his hand, and take also of the tree of life, and eat, and live for ever-\n"
     ]
    }
   ],
   "source": [
    "print('gensim:')\n",
    "print(summ3)"
   ]
  },
  {
   "cell_type": "code",
   "execution_count": 95,
   "metadata": {},
   "outputs": [
    {
     "name": "stdout",
     "output_type": "stream",
     "text": [
      "textrank:\n",
      "And unto Adam he said, Because thou hast hearkened unto the voice of thy wife, and hast eaten of the tree, of which I commanded thee, saying, Thou shalt not eat of it: cursed is the ground for thy sake; in toil shalt thou eat of it all the days of thy life; thorns also and thistles shall it bring forth to thee; and thou shalt eat the herb of the field; in the sweat of thy face shalt thou eat bread, till thou return unto the ground; for out of it wast thou taken: for dust thou art, and unto dust shalt thou return. And Jehovah God said unto the serpent, Because thou hast done this, cursed art thou above all cattle, and above every beast of the field; upon thy belly shalt thou go, and dust shalt thou eat all the days of thy life: and I will put enmity between thee and the woman, and between thy seed and her seed: he shall bruise thy head, and thou shalt bruise his heel. And Jehovah God said, Behold, the man is become as one of us, to know good and evil; and now, lest he put forth his\n"
     ]
    }
   ],
   "source": [
    "print('textrank:')\n",
    "print(gen3_tr)"
   ]
  },
  {
   "cell_type": "code",
   "execution_count": 89,
   "metadata": {},
   "outputs": [
    {
     "name": "stdout",
     "output_type": "stream",
     "text": [
      "gensim:\n",
      "thou shalt not bow down thyself unto them, nor serve them; for I, Jehovah, thy God, am a jealous God, visiting the iniquity of the fathers upon the children, and upon the third and upon the fourth generation of them that hate me;\n",
      "Observe the sabbath day, to keep it holy, as Jehovah thy God commanded thee.\n",
      "And thou shalt remember that thou wast a servant in the land of Egypt, and Jehovah thy God brought thee out thence by a mighty hand and by an outstretched arm: therefore Jehovah thy God commanded thee to keep the sabbath day.\n",
      "and ye said, Behold, Jehovah our God hath showed us his glory and his greatness, and we have heard his voice out of the midst of the fire: we have seen this day that God doth speak with man, and he liveth.\n",
      "But as for thee, stand thou here by me, and I will speak unto thee all the commandment, and the statutes, and the ordinances, which thou shalt teach them, that they may do them in the land which I give them to possess it.\n"
     ]
    }
   ],
   "source": [
    "print('gensim:')\n",
    "print(deut5summ)"
   ]
  },
  {
   "cell_type": "code",
   "execution_count": 90,
   "metadata": {},
   "outputs": [],
   "source": [
    "deut5_tr=extract_sentences(deut5str)"
   ]
  },
  {
   "cell_type": "code",
   "execution_count": 91,
   "metadata": {},
   "outputs": [
    {
     "name": "stdout",
     "output_type": "stream",
     "text": [
      "textrank:\n",
      "Thou shalt not make unto thee a graven image, `nor' any likeness `of anything' that is in heaven above, or that is in the earth beneath, or that is in the water under the earth: thou shalt not bow down thyself unto them, nor serve them; for I, Jehovah, thy God, am a jealous God, visiting the iniquity of the fathers upon the children, and upon the third and upon the fourth generation of them that hate me; and showing lovingkindness unto thousands of them that love me and keep my commandments. And it came to pass, when ye heard the voice out of the midst of the darkness, while the mountain was burning with fire, that ye came near unto me, even all the heads of your tribes, and your elders; and ye said, Behold, Jehovah our God hath showed us his glory and his greatness, and we have heard his voice out of the midst of the fire: we have seen this day that God doth speak with man, and he liveth. Six days shalt thou labor, and do all thy work; but the seventh day is a sabbath unto Jehovah thy God: `in it' thou shalt not\n"
     ]
    }
   ],
   "source": [
    "print('textrank:')\n",
    "print(deut5_tr)"
   ]
  },
  {
   "cell_type": "code",
   "execution_count": 96,
   "metadata": {},
   "outputs": [],
   "source": [
    "#compare summaries for Matthew 1\n",
    "matt1 = dta.t[(dta.b==40) & (dta.c==1)]\n"
   ]
  },
  {
   "cell_type": "code",
   "execution_count": 97,
   "metadata": {},
   "outputs": [
    {
     "name": "stdout",
     "output_type": "stream",
     "text": [
      "The book of the generation of Jesus Christ, the son of David, the son of Abraham.\n",
      "Abraham begat Isaac; and Isaac begat Jacob; and Jacob begat Judah and his brethren;\n",
      "and Judah begat Perez and Zerah of Tamar; and Perez begat Hezron; and Hezron begat Ram;\n",
      "and Ram begat Amminadab; and Amminadab begat Nahshon; and Nahshon begat Salmon;\n",
      "and Salmon begat Boaz of Rahab; and Boaz begat Obed of Ruth; and Obed begat Jesse;\n",
      "and Jesse begat David the king.\n",
      "And David begat Solomon of her `that had been the wife' of Uriah;\n",
      "and Solomon begat Rehoboam; and Rehoboam begat Abijah; and Abijah begat Asa;\n",
      "and Asa begat Jehoshaphat; and Jehoshaphat begat Joram; and Joram begat Uzziah;\n",
      "and Uzziah begat Jotham; and Jotham begat Ahaz; and Ahaz begat Hezekiah;\n",
      "and Hezekiah begat Manasseh; and Manasseh begat Amon; and Amon begat Josiah;\n",
      "and Josiah begat Jechoniah and his brethren, at the time of the carrying away to Babylon.\n",
      "And after the carrying away to Babylon, Jechoniah begat Shealtiel; and Shealtiel begat Zerubbabel;\n",
      "and Zerubbabel begat Abiud; and Abiud begat Eliakim; and Eliakim begat Azor;\n",
      "and Azor begat Sadoc; and Sadoc begat Achim; and Achim begat Eliud;\n",
      "and Eliud begat Eleazar; and Eleazar begat Matthan; and Matthan begat Jacob;\n",
      "and Jacob begat Joseph the husband of Mary, of whom was born Jesus, who is called Christ.\n",
      "So all the generations from Abraham unto David are fourteen generations; and from David unto the carrying away to Babylon fourteen generations; and from the carrying away to Babylon unto the Christ fourteen generations.\n",
      "Now the birth of Jesus Christ was on this wise: When his mother Mary had been betrothed to Joseph, before they came together she was found with child of the Holy Spirit.\n",
      "And Joseph her husband, being a righteous man, and not willing to make her a public example, was minded to put her away privily.\n",
      "But when he thought on these things, behold, an angel of the Lord appeared unto him in a dream, saying, Joseph, thou son of David, fear not to take unto thee Mary thy wife: for that which is conceived in her is of the Holy Spirit.\n",
      "And she shall bring forth a son; and thou shalt call his name JESUS; for it is he that shall save his people from their sins.\n",
      "Now all this is come to pass, that it might be fulfilled which was spoken by the Lord through the prophet, saying,\n",
      "Behold, the virgin shall be with child, and shall bring forth a son, And they shall call his name Immanuel; which is, being interpreted, God with us.\n",
      "And Joseph arose from his sleep, and did as the angel of the Lord commanded him, and took unto him his wife;\n",
      "and knew her not till she had brought forth a son: and he called his name JESUS.\n"
     ]
    }
   ],
   "source": [
    "all_matt1_verse=[]\n",
    "matt1str=[]\n",
    "for verse in matt1:\n",
    "    matt1verse = sent_tokenize(verse)\n",
    "    all_matt1_verse.extend(matt1verse)\n",
    "    matt1str = '\\n'.join(all_matt1_verse)\n",
    "print(matt1str)"
   ]
  },
  {
   "cell_type": "code",
   "execution_count": 100,
   "metadata": {},
   "outputs": [
    {
     "name": "stderr",
     "output_type": "stream",
     "text": [
      "2018-07-02 21:56:28,781 : INFO : adding document #0 to Dictionary(0 unique tokens: [])\n",
      "2018-07-02 21:56:28,786 : INFO : built Dictionary(114 unique tokens: ['abraham', 'book', 'christ', 'david', 'gener']...) from 26 documents (total 257 corpus positions)\n"
     ]
    }
   ],
   "source": [
    "matt1summ = summarize(matt1str, word_count=200)\n",
    "matt1_tr= extract_sentences(matt1str)"
   ]
  },
  {
   "cell_type": "code",
   "execution_count": 101,
   "metadata": {},
   "outputs": [
    {
     "name": "stdout",
     "output_type": "stream",
     "text": [
      "gensim:\n",
      "The book of the generation of Jesus Christ, the son of David, the son of Abraham.\n",
      "And David begat Solomon of her `that had been the wife' of Uriah;\n",
      "and Josiah begat Jechoniah and his brethren, at the time of the carrying away to Babylon.\n",
      "And after the carrying away to Babylon, Jechoniah begat Shealtiel; and Shealtiel begat Zerubbabel;\n",
      "and Jacob begat Joseph the husband of Mary, of whom was born Jesus, who is called Christ.\n",
      "Now the birth of Jesus Christ was on this wise: When his mother Mary had been betrothed to Joseph, before they came together she was found with child of the Holy Spirit.\n",
      "But when he thought on these things, behold, an angel of the Lord appeared unto him in a dream, saying, Joseph, thou son of David, fear not to take unto thee Mary thy wife: for that which is conceived in her is of the Holy Spirit.\n",
      "And she shall bring forth a son; and thou shalt call his name JESUS; for it is he that shall save his people from their sins.\n",
      "and knew her not till she had brought forth a son: and he called his name JESUS.\n"
     ]
    }
   ],
   "source": [
    "print('gensim:')\n",
    "print(matt1summ)"
   ]
  },
  {
   "cell_type": "code",
   "execution_count": 102,
   "metadata": {},
   "outputs": [
    {
     "name": "stdout",
     "output_type": "stream",
     "text": [
      "textrank:\n",
      "And David begat Solomon of her `that had been the wife' of Uriah; and Solomon begat Rehoboam; and Rehoboam begat Abijah; and Abijah begat Asa; and Asa begat Jehoshaphat; and Jehoshaphat begat Joram; and Joram begat Uzziah; and Uzziah begat Jotham; and Jotham begat Ahaz; and Ahaz begat Hezekiah; and Hezekiah begat Manasseh; and Manasseh begat Amon; and Amon begat Josiah; and Josiah begat Jechoniah and his brethren, at the time of the carrying away to Babylon. And after the carrying away to Babylon, Jechoniah begat Shealtiel; and Shealtiel begat Zerubbabel; and Zerubbabel begat Abiud; and Abiud begat Eliakim; and Eliakim begat Azor; and Azor begat Sadoc; and Sadoc begat Achim; and Achim begat Eliud; and Eliud begat Eleazar; and Eleazar begat Matthan; and Matthan begat Jacob; and Jacob begat Joseph the husband of Mary, of whom was born Jesus, who is called Christ. Abraham begat Isaac; and Isaac begat Jacob; and Jacob begat Judah and his brethren; and Judah begat Perez and Zerah of Tamar; and Perez begat Hezron; and Hezron begat Ram; and Ram begat Amminadab; and Amminadab begat Nahshon; and Nahshon begat Salmon; and Salmon begat Boaz of Rahab; and Boaz begat Obed of Ruth; and Obed\n"
     ]
    }
   ],
   "source": [
    "print('textrank:')\n",
    "print(matt1_tr)"
   ]
  },
  {
   "cell_type": "code",
   "execution_count": 98,
   "metadata": {},
   "outputs": [],
   "source": [
    "#compare summaries for Matthew 1\n",
    "matt2 = dta.t[(dta.b==40) & (dta.c==2)]"
   ]
  },
  {
   "cell_type": "code",
   "execution_count": 99,
   "metadata": {},
   "outputs": [
    {
     "name": "stdout",
     "output_type": "stream",
     "text": [
      "Now when Jesus was born in Bethlehem of Judaea in the days of Herod the king, behold, Wise-men from the east came to Jerusalem, saying,\n",
      "Where is he that is born King of the Jews?\n",
      "for we saw his star in the east, and are come to worship him.\n",
      "And when Herod the king heard it, he was troubled, and all Jerusalem with him.\n",
      "And gathering together all the chief priests and scribes of the people, he inquired of them where the Christ should be born.\n",
      "And they said unto him, In Bethlehem of Judaea: for thus it is written through the prophet,\n",
      "And thou Bethlehem, land of Judah, Art in no wise least among the princes of Judah: For out of thee shall come forth a governor, Who shall be shepherd of my people Israel.\n",
      "Then Herod privily called the Wise-men, and learned of them exactly what time the star appeared.\n",
      "And he sent them to Bethlehem, and said, Go and search out exactly concerning the young child; and when ye have found `him,' bring me word, that I also may come and worship him.\n",
      "And they, having heard the king, went their way; and lo, the star, which they saw in the east, went before them, till it came and stood over where the young child was.\n",
      "And when they saw the star, they rejoiced with exceeding great joy.\n",
      "And they came into the house and saw the young child with Mary his mother; and they fell down and worshipped him; and opening their treasures they offered unto him gifts, gold and frankincense and myrrh.\n",
      "And being warned `of God' in a dream that they should not return to Herod, they departed into their own country another way.\n",
      "Now when they were departed, behold, an angel of the Lord appeareth to Joseph in a dream, saying, Arise and take the young child and his mother, and flee into Egypt, and be thou there until I tell thee: for Herod will seek the young child to destroy him.\n",
      "And he arose and took the young child and his mother by night, and departed into Egypt;\n",
      "and was there until the death of Herod: that it might be fulfilled which was spoken by the Lord through the prophet, saying, Out of Egypt did I call my son.\n",
      "Then Herod, when he saw that he was mocked of the Wise-men, was exceeding wroth, and sent forth, and slew all the male children that were in Bethlehem, and in all the borders thereof, from two years old and under, according to the time which he had exactly learned of the Wise-men.\n",
      "Then was fulfilled that which was spoken through Jeremiah the prophet, saying,\n",
      "A voice was heard in Ramah, Weeping and great mourning, Rachel weeping for her children; And she would not be comforted, because they are not.\n",
      "But when Herod was dead, behold, an angel of the Lord appeareth in a dream to Joseph in Egypt, saying,\n",
      "Arise and take the young child and his mother, and go into the land of Israel: for they are dead that sought the young child's life.\n",
      "And he arose and took the young child and his mother, and came into the land of Israel.\n",
      "But when he heard that Archelaus was reigning over Judaea in the room of his father Herod, he was afraid to go thither; and being warned `of God' in a dream, he withdrew into the parts of Galilee,\n",
      "and came and dwelt in a city called Nazareth; that it might be fulfilled which was spoken through the prophets, that he should be called a Nazarene.\n"
     ]
    }
   ],
   "source": [
    "all_matt2_verse=[]\n",
    "matt2str=[]\n",
    "for verse in matt2:\n",
    "    matt2verse = sent_tokenize(verse)\n",
    "    all_matt2_verse.extend(matt2verse)\n",
    "    matt2str = '\\n'.join(all_matt2_verse)\n",
    "print(matt2str)"
   ]
  },
  {
   "cell_type": "code",
   "execution_count": null,
   "metadata": {},
   "outputs": [],
   "source": []
  },
  {
   "cell_type": "code",
   "execution_count": null,
   "metadata": {},
   "outputs": [],
   "source": []
  },
  {
   "cell_type": "code",
   "execution_count": null,
   "metadata": {},
   "outputs": [],
   "source": []
  },
  {
   "cell_type": "code",
   "execution_count": null,
   "metadata": {},
   "outputs": [],
   "source": []
  },
  {
   "cell_type": "code",
   "execution_count": null,
   "metadata": {},
   "outputs": [],
   "source": []
  },
  {
   "cell_type": "code",
   "execution_count": null,
   "metadata": {},
   "outputs": [],
   "source": []
  },
  {
   "cell_type": "code",
   "execution_count": 103,
   "metadata": {},
   "outputs": [
    {
     "name": "stderr",
     "output_type": "stream",
     "text": [
      "2018-07-02 22:35:09,942 : INFO : 'pattern' package not found; tag filters are not available for English\n"
     ]
    }
   ],
   "source": [
    "from summa import summarizer"
   ]
  },
  {
   "cell_type": "code",
   "execution_count": 106,
   "metadata": {},
   "outputs": [
    {
     "name": "stdout",
     "output_type": "stream",
     "text": [
      "And God said, Let there be lights in the firmament of heaven to divide the day from the night; and let them be for signs, and for seasons, and for days and years:\n",
      "And God set them in the firmament of heaven to give light upon the earth,\n",
      "and to rule over the day and over the night, and to divide the light from the darkness: and God saw that it was good.\n",
      "And God said, Let the waters swarm with swarms of living creatures, and let birds fly above the earth in the open firmament of heaven.\n",
      "And God said, Let us make man in our image, after our likeness: and let them have dominion over the fish of the sea, and over the birds of the heavens, and over the cattle, and over all the earth, and over every creeping thing that creepeth upon the earth.\n",
      "And God blessed them: and God said unto them, Be fruitful, and multiply, and replenish the earth, and subdue it; and have dominion over the fish of the sea, and over the birds of the heavens, and over every living thing that moveth upon the earth.\n"
     ]
    }
   ],
   "source": [
    "print(summarizer.summarize(text, words=200))"
   ]
  },
  {
   "cell_type": "code",
   "execution_count": 109,
   "metadata": {},
   "outputs": [
    {
     "name": "stderr",
     "output_type": "stream",
     "text": [
      "2018-07-02 22:38:08,313 : INFO : adding document #0 to Dictionary(0 unique tokens: [])\n",
      "2018-07-02 22:38:08,318 : INFO : built Dictionary(92 unique tokens: ['begin', 'creat', 'earth', 'god', 'heaven']...) from 34 documents (total 333 corpus positions)\n"
     ]
    },
    {
     "name": "stdout",
     "output_type": "stream",
     "text": [
      "And the earth brought forth grass, herbs yielding seed after their kind, and trees bearing fruit, wherein is the seed thereof, after their kind: and God saw that it was good.\n",
      "And God said, Let there be lights in the firmament of heaven to divide the day from the night; and let them be for signs, and for seasons, and for days and years:\n",
      "and to rule over the day and over the night, and to divide the light from the darkness: and God saw that it was good.\n",
      "And God said, Let the waters swarm with swarms of living creatures, and let birds fly above the earth in the open firmament of heaven.\n",
      "And God said, Let the earth bring forth living creatures after their kind, cattle, and creeping things, and beasts of the earth after their kind: and it was so.\n",
      "And God said, Let us make man in our image, after our likeness: and let them have dominion over the fish of the sea, and over the birds of the heavens, and over the cattle, and over all the earth, and over every creeping thing that creepeth upon the earth.\n"
     ]
    }
   ],
   "source": [
    "print (summarize(text, word_count=200))"
   ]
  },
  {
   "cell_type": "code",
   "execution_count": 110,
   "metadata": {},
   "outputs": [
    {
     "name": "stdout",
     "output_type": "stream",
     "text": [
      "And no plant of the field was yet in the earth, and no herb of the field had yet sprung up; for Jehovah God had not caused it to rain upon the earth: and there was not a man to till the ground;\n",
      "And Jehovah God planted a garden eastward, in Eden; and there he put the man whom he had formed.\n",
      "And Jehovah God took the man, and put him into the garden of Eden to dress it and to keep it.\n",
      "And Jehovah God commanded the man, saying, Of every tree of the garden thou mayest freely eat:\n",
      "And Jehovah God said, It is not good that the man should be alone; I will make him a help meet for him.\n",
      "And out of the ground Jehovah God formed every beast of the field, and every bird of the heavens; and brought them unto the man to see what he would call them: and whatsoever the man called every living creature, that was the name thereof.\n",
      "and the rib, which Jehovah God had taken from the man, made he a woman, and brought her unto the man.\n"
     ]
    }
   ],
   "source": [
    "print(summarizer.summarize(gen2str, words=200))"
   ]
  },
  {
   "cell_type": "code",
   "execution_count": 111,
   "metadata": {},
   "outputs": [
    {
     "name": "stderr",
     "output_type": "stream",
     "text": [
      "2018-07-02 22:38:41,449 : INFO : adding document #0 to Dictionary(0 unique tokens: [])\n",
      "2018-07-02 22:38:41,455 : INFO : built Dictionary(110 unique tokens: ['earth', 'finish', 'heaven', 'host', 'dai']...) from 25 documents (total 237 corpus positions)\n"
     ]
    },
    {
     "name": "stdout",
     "output_type": "stream",
     "text": [
      "And no plant of the field was yet in the earth, and no herb of the field had yet sprung up; for Jehovah God had not caused it to rain upon the earth: and there was not a man to till the ground;\n",
      "And Jehovah God planted a garden eastward, in Eden; and there he put the man whom he had formed.\n",
      "And a river went out of Eden to water the garden; and from thence it was parted, and became four heads.\n",
      "And Jehovah God took the man, and put him into the garden of Eden to dress it and to keep it.\n",
      "And Jehovah God said, It is not good that the man should be alone; I will make him a help meet for him.\n",
      "And out of the ground Jehovah God formed every beast of the field, and every bird of the heavens; and brought them unto the man to see what he would call them: and whatsoever the man called every living creature, that was the name thereof.\n",
      "and the rib, which Jehovah God had taken from the man, made he a woman, and brought her unto the man.\n"
     ]
    }
   ],
   "source": [
    "print(summarize(gen2str, word_count=200))"
   ]
  },
  {
   "cell_type": "code",
   "execution_count": 112,
   "metadata": {},
   "outputs": [
    {
     "name": "stdout",
     "output_type": "stream",
     "text": [
      "The book of the generation of Jesus Christ, the son of David, the son of Abraham.\n",
      "Abraham begat Isaac; and Isaac begat Jacob; and Jacob begat Judah and his brethren;\n",
      "and Jesse begat David the king.\n",
      "And David begat Solomon of her `that had been the wife' of Uriah;\n",
      "and Solomon begat Rehoboam; and Rehoboam begat Abijah; and Abijah begat Asa;\n",
      "and Josiah begat Jechoniah and his brethren, at the time of the carrying away to Babylon.\n",
      "And after the carrying away to Babylon, Jechoniah begat Shealtiel; and Shealtiel begat Zerubbabel;\n",
      "and Eliud begat Eleazar; and Eleazar begat Matthan; and Matthan begat Jacob;\n",
      "and Jacob begat Joseph the husband of Mary, of whom was born Jesus, who is called Christ.\n",
      "So all the generations from Abraham unto David are fourteen generations; and from David unto the carrying away to Babylon fourteen generations; and from the carrying away to Babylon unto the Christ fourteen generations.\n",
      "But when he thought on these things, behold, an angel of the Lord appeared unto him in a dream, saying, Joseph, thou son of David, fear not to take unto thee Mary thy wife: for that which is conceived in her is of the Holy Spirit.\n"
     ]
    }
   ],
   "source": [
    "print(summarizer.summarize(matt1str, words=200))"
   ]
  },
  {
   "cell_type": "code",
   "execution_count": 113,
   "metadata": {},
   "outputs": [
    {
     "data": {
      "text/plain": [
       "\"And David begat Solomon of her `that had been the wife' of Uriah; and Solomon begat Rehoboam; and Rehoboam begat Abijah; and Abijah begat Asa; and Asa begat Jehoshaphat; and Jehoshaphat begat Joram; and Joram begat Uzziah; and Uzziah begat Jotham; and Jotham begat Ahaz; and Ahaz begat Hezekiah; and Hezekiah begat Manasseh; and Manasseh begat Amon; and Amon begat Josiah; and Josiah begat Jechoniah and his brethren, at the time of the carrying away to Babylon. And after the carrying away to Babylon, Jechoniah begat Shealtiel; and Shealtiel begat Zerubbabel; and Zerubbabel begat Abiud; and Abiud begat Eliakim; and Eliakim begat Azor; and Azor begat Sadoc; and Sadoc begat Achim; and Achim begat Eliud; and Eliud begat Eleazar; and Eleazar begat Matthan; and Matthan begat Jacob; and Jacob begat Joseph the husband of Mary, of whom was born Jesus, who is called Christ. Abraham begat Isaac; and Isaac begat Jacob; and Jacob begat Judah and his brethren; and Judah begat Perez and Zerah of Tamar; and Perez begat Hezron; and Hezron begat Ram; and Ram begat Amminadab; and Amminadab begat Nahshon; and Nahshon begat Salmon; and Salmon begat Boaz of Rahab; and Boaz begat Obed of Ruth; and Obed\""
      ]
     },
     "execution_count": 113,
     "metadata": {},
     "output_type": "execute_result"
    }
   ],
   "source": [
    "extract_sentences(matt1str)"
   ]
  },
  {
   "cell_type": "code",
   "execution_count": 114,
   "metadata": {},
   "outputs": [
    {
     "name": "stderr",
     "output_type": "stream",
     "text": [
      "2018-07-02 22:41:00,201 : INFO : adding document #0 to Dictionary(0 unique tokens: [])\n",
      "2018-07-02 22:41:00,207 : INFO : built Dictionary(114 unique tokens: ['abraham', 'book', 'christ', 'david', 'gener']...) from 26 documents (total 257 corpus positions)\n"
     ]
    },
    {
     "data": {
      "text/plain": [
       "\"The book of the generation of Jesus Christ, the son of David, the son of Abraham.\\nAnd David begat Solomon of her `that had been the wife' of Uriah;\\nand Josiah begat Jechoniah and his brethren, at the time of the carrying away to Babylon.\\nAnd after the carrying away to Babylon, Jechoniah begat Shealtiel; and Shealtiel begat Zerubbabel;\\nand Jacob begat Joseph the husband of Mary, of whom was born Jesus, who is called Christ.\\nNow the birth of Jesus Christ was on this wise: When his mother Mary had been betrothed to Joseph, before they came together she was found with child of the Holy Spirit.\\nBut when he thought on these things, behold, an angel of the Lord appeared unto him in a dream, saying, Joseph, thou son of David, fear not to take unto thee Mary thy wife: for that which is conceived in her is of the Holy Spirit.\\nAnd she shall bring forth a son; and thou shalt call his name JESUS; for it is he that shall save his people from their sins.\\nand knew her not till she had brought forth a son: and he called his name JESUS.\""
      ]
     },
     "execution_count": 114,
     "metadata": {},
     "output_type": "execute_result"
    }
   ],
   "source": [
    "summarize(matt1str, word_count=200)"
   ]
  },
  {
   "cell_type": "code",
   "execution_count": null,
   "metadata": {},
   "outputs": [],
   "source": []
  }
 ],
 "metadata": {
  "kernelspec": {
   "display_name": "Python 3",
   "language": "python",
   "name": "python3"
  },
  "language_info": {
   "codemirror_mode": {
    "name": "ipython",
    "version": 3
   },
   "file_extension": ".py",
   "mimetype": "text/x-python",
   "name": "python",
   "nbconvert_exporter": "python",
   "pygments_lexer": "ipython3",
   "version": "3.6.4"
  }
 },
 "nbformat": 4,
 "nbformat_minor": 2
}
